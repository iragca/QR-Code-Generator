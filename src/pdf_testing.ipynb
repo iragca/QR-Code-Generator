{
 "cells": [
  {
   "cell_type": "code",
   "execution_count": 7,
   "metadata": {},
   "outputs": [
    {
     "data": {
      "image/jpeg": "[encoded data removed]",
      "image/png": "[encoded data removed]",
      "text/plain": [
       "<PIL.Image.Image image mode=1 size=370x370>"
      ]
     },
     "metadata": {},
     "output_type": "display_data"
    },
    {
     "name": "stdout",
     "output_type": "stream",
     "text": [
      "Encrypted data: WqTQp1+UNBSofucBHaml0v+Lyu4Ky4841Qh0guiNJzY=\n"
     ]
    }
   ],
   "source": [
    "import qrcode\n",
    "import sqlite3\n",
    "import pandas as pd\n",
    "import polars as pl\n",
    "\n",
    "\n",
    "conn = sqlite3.connect(\"database.sqlite\")\n",
    "cur = conn.cursor()\n",
    "\n",
    "def get_table(table: str, conn = conn):\n",
    "    \"\"\"\n",
    "    This function returns a polars DataFrame from the specified table in the database.\n",
    "    \"\"\"\n",
    "    return pl.read_database(f'SELECT * FROM {table}', conn)\n",
    "\n",
    "data = get_table('keys').to_pandas()\n",
    "enc_key = data.loc[0, 'encryption_key']\n",
    "enc_id = data.loc[0, 'encrypted_id']\n",
    "unenc_id = data.loc[0, 'unencrypted_id']\n",
    "# Generate the QR code\n",
    "qr = qrcode.QRCode(\n",
    "    version=1,\n",
    "    error_correction=qrcode.constants.ERROR_CORRECT_L,\n",
    "    box_size=10,\n",
    "    border=4,\n",
    ")\n",
    "\n",
    "qr.add_data(enc_id)\n",
    "qr.make(fit=True)\n",
    "\n",
    "# Create and save the QR code image\n",
    "img = qr.make_image(fill='black', back_color='white')\n",
    "img.save(\"encrypted_qr_code.png\")\n",
    "\n",
    "# Optionally, show the image\n",
    "img.show()\n",
    "\n",
    "# The encrypted data (this is what is encoded in the QR code)\n",
    "print(\"Encrypted data:\", enc_id)"
   ]
  },
  {
   "cell_type": "code",
   "execution_count": 20,
   "metadata": {},
   "outputs": [
    {
     "name": "stdout",
     "output_type": "stream",
     "text": [
      "PDF with QR code, wrapped text, and forced newlines saved as qr_code_with_text.pdf\n"
     ]
    }
   ],
   "source": [
    "from reportlab.lib.pagesizes import letter\n",
    "from reportlab.pdfgen import canvas\n",
    "from reportlab.lib.styles import getSampleStyleSheet\n",
    "from reportlab.platypus import Paragraph\n",
    "from reportlab.lib import colors\n",
    "\n",
    "qr_image_path = \"encrypted_qr_code.png\"\n",
    "\n",
    "# Step 3: Create a PDF with the QR code and text box\n",
    "pdf_path = \"qr_code_with_text.pdf\"\n",
    "c = canvas.Canvas(pdf_path, pagesize=letter)\n",
    "\n",
    "# Step 4: Draw the QR code image onto the PDF\n",
    "qr_x, qr_y = 100, 500  # Starting position for QR code\n",
    "qr_width, qr_height = 200, 200  # Dimensions for the QR code\n",
    "c.drawImage(qr_image_path, qr_x, qr_y, width=qr_width, height=qr_height)\n",
    "\n",
    "# Step 5: Add a text box to the right of the QR code\n",
    "text_x = qr_x + qr_width + 20  # Position the text box to the right of the QR code\n",
    "text_y = qr_y + qr_height - 150  # Adjust text vertical position\n",
    "text_width = 200  # Width of the text box\n",
    "text_height = 100  # Height of the text box\n",
    "\n",
    "# Add the text box and set the font for the text\n",
    "c.setFont(\"Helvetica\", 12)\n",
    "text = f\"\"\"\n",
    "{unenc_id}:\n",
    "{enc_id}\n",
    "\"\"\"\n",
    "\n",
    "style = getSampleStyleSheet()['Normal']\n",
    "style.fontSize = 12\n",
    "style.leading = 14\n",
    "\n",
    "# Create a Paragraph with wrapping\n",
    "paragraph = Paragraph(text, style)\n",
    "\n",
    "# Step 7: Draw the text in the PDF\n",
    "# The height of the Paragraph is determined by the number of lines, so we need to adjust the y-position.\n",
    "paragraph.wrapOn(c, text_width, 200)  # The 200 is a large enough height for wrapping\n",
    "paragraph.drawOn(c, text_x, text_y)\n",
    "\n",
    "# Step 8: Save the PDF\n",
    "c.save()\n",
    "\n",
    "print(f\"PDF with QR code, wrapped text, and forced newlines saved as {pdf_path}\")"
   ]
  }
 ],
 "metadata": {
  "kernelspec": {
   "display_name": "Python 3",
   "language": "python",
   "name": "python3"
  },
  "language_info": {
   "codemirror_mode": {
    "name": "ipython",
    "version": 3
   },
   "file_extension": ".py",
   "mimetype": "text/x-python",
   "name": "python",
   "nbconvert_exporter": "python",
   "pygments_lexer": "ipython3",
   "version": "3.12.1"
  }
 },
 "nbformat": 4,
 "nbformat_minor": 2
}
